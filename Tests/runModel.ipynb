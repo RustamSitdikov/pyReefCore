{
 "cells": [
  {
   "cell_type": "code",
   "execution_count": 1,
   "metadata": {
    "collapsed": false,
    "deletable": true,
    "editable": true
   },
   "outputs": [],
   "source": [
    "%matplotlib inline\n",
    "import matplotlib.pyplot as plt\n",
    "\n",
    "import numpy\n",
    "\n",
    "%config InlineBackend.figure_format = 'svg'"
   ]
  },
  {
   "cell_type": "markdown",
   "metadata": {
    "deletable": true,
    "editable": true
   },
   "source": [
    "# ReefCore library\n",
    "\n",
    "**ReefCore**  is a 1D model which simulates evolution of mixed carbonate-siliciclastic system under environmental forcing conditions (e.g. sea-level, water flow, siliciclastic input).\n",
    "\n",
    "The carbonate production model simulates the logistic growth and interaction among species based on **Generalized Lotka-Volterra** equations. This equation is mainly formed by two parts, the logistic growth/decay of a species and its interaction with the other species,\n",
    "\n",
    "$$\\frac{dx_i}{dt} = \\epsilon_i x_i + \\sum_{j=1}^{N_s} \\alpha_{ij}x_ix_j$$\n",
    "\n",
    "where $x_i$ is the population density of species _i_; $\\epsilon_i$ is the intrinsic rate of increase/decrease of a population of species _i_ (also called **Malthusian** parameter); $\\alpha_{ij}$ is the interaction coefficient among the species association _i_ and _j_, (a particular case is $\\alpha_{ii}$, the interaction of one species association with itself); and _t_ is time. \n",
    "\n",
    "In **ReefCore** the equation is solved using **Runge-Kutta-Fehlberg** method (_RKF45_ or _Fehlberg_ as defined in the odespy library)."
   ]
  },
  {
   "cell_type": "code",
   "execution_count": 2,
   "metadata": {
    "collapsed": false,
    "deletable": true,
    "editable": true
   },
   "outputs": [],
   "source": [
    "from pyReefCore.model import Model"
   ]
  },
  {
   "cell_type": "markdown",
   "metadata": {
    "deletable": true,
    "editable": true
   },
   "source": [
    "On the library has been loaded, the model initialisation is done using the following command:"
   ]
  },
  {
   "cell_type": "code",
   "execution_count": 3,
   "metadata": {
    "collapsed": false,
    "deletable": true,
    "editable": true
   },
   "outputs": [],
   "source": [
    "# Initialise model\n",
    "reef = Model()"
   ]
  },
  {
   "cell_type": "markdown",
   "metadata": {
    "deletable": true,
    "editable": true
   },
   "source": [
    "# Build environmental forcing curves\n",
    "\n"
   ]
  },
  {
   "cell_type": "code",
   "execution_count": 4,
   "metadata": {
    "collapsed": false,
    "deletable": true,
    "editable": true
   },
   "outputs": [],
   "source": [
    "reef.enviforcing.buildCurve(timeExt=[0,500],timeStep=10,\n",
    "                            funcExt=[0,20],ampExt=[2,5],\n",
    "                            periodExt=[100,150])"
   ]
  },
  {
   "cell_type": "code",
   "execution_count": 5,
   "metadata": {
    "collapsed": false,
    "deletable": true,
    "editable": true
   },
   "outputs": [],
   "source": [
    "#reef.enviforcing.plotCurves(size=(3,6), lwidth = 3, title='Sea-level curve [m]', \n",
    "#                            color='slateblue', font=8, dpi=80, figName = None)"
   ]
  },
  {
   "cell_type": "code",
   "execution_count": 6,
   "metadata": {
    "collapsed": true,
    "deletable": true,
    "editable": true
   },
   "outputs": [],
   "source": [
    "reef.enviforcing.exportCurve(nameCSV='data/sealevel.csv')"
   ]
  },
  {
   "cell_type": "markdown",
   "metadata": {
    "deletable": true,
    "editable": true
   },
   "source": [
    "# XmL input file\n",
    "\n",
    "The next step consists in defining the initial conditions for our simulation. This is done by using an **XmL** input file which set the parameters to be used, such as:\n",
    "\n",
    "- the initial species population number $X0$\n",
    "- the intrinsic rate of a population species $\\epsilon$\n",
    "- the interaction coefficients among the species association $\\alpha$"
   ]
  },
  {
   "cell_type": "code",
   "execution_count": 7,
   "metadata": {
    "collapsed": false,
    "deletable": true,
    "editable": true
   },
   "outputs": [
    {
     "name": "stdout",
     "output_type": "stream",
     "text": [
      "here1\n"
     ]
    }
   ],
   "source": [
    "# Define the XmL input file\n",
    "reef.load_xml('input.xml')"
   ]
  },
  {
   "cell_type": "markdown",
   "metadata": {
    "deletable": true,
    "editable": true
   },
   "source": [
    "Visualise the initial conditions of your model run can be done using the following command:"
   ]
  },
  {
   "cell_type": "code",
   "execution_count": null,
   "metadata": {
    "collapsed": false,
    "deletable": true,
    "editable": true,
    "scrolled": false
   },
   "outputs": [],
   "source": [
    "reef.core.initialSetting(size=(8,2.5), size2=(8,3.5))"
   ]
  },
  {
   "cell_type": "markdown",
   "metadata": {
    "deletable": true,
    "editable": true
   },
   "source": [
    "# Model simulation\n",
    "\n",
    "The core of the code consist in solving the system of ODEs from the **GLV** equations using the **RKF** method.\n",
    "\n",
    "Once a species association population is resolved, carbonate production is calculated using a carbonate production factor. Production factors are specified for the maximum population, and linearly scaled to the actual population following the relation\n",
    "$$ \\frac{dP}{dt} = R_{max}\\frac{x_i}{K_i}$$\n",
    "\n",
    "where $P$ is the carbonate production, $t$ is time, $R_{max}$ is the carbonate production factor when population is at its maximum, and $K_i$ is the maximum population of species _i_, computed as\n",
    "\n",
    "$$K_i=\\frac{\\epsilon_i}{\\alpha_{ii}}$$\n",
    "\n",
    "To run the model for a given time period [years], the following function needs to be called:"
   ]
  },
  {
   "cell_type": "code",
   "execution_count": null,
   "metadata": {
    "collapsed": false,
    "deletable": true,
    "editable": true
   },
   "outputs": [],
   "source": [
    "reef.run_to_time(500,showtime=100.)"
   ]
  },
  {
   "cell_type": "markdown",
   "metadata": {
    "deletable": true,
    "editable": true
   },
   "source": [
    "# Results\n",
    "\n",
    "All the output from the model run can be plotted on the notebook using a series of internal functions presented below.\n",
    "\n",
    "First one can specify a colormap to use for the plot using one of the matplotlib predefined colormap proposed here: \n",
    "- [colormaps_reference](http://matplotlib.org/examples/color/colormaps_reference.html)"
   ]
  },
  {
   "cell_type": "code",
   "execution_count": null,
   "metadata": {
    "collapsed": false,
    "deletable": true,
    "editable": true
   },
   "outputs": [],
   "source": [
    "from matplotlib.cm import terrain, plasma\n",
    "nbcolors = len(reef.core.coralH)+10\n",
    "colors = terrain(numpy.linspace(0, 1, nbcolors))\n",
    "\n",
    "nbcolors = len(reef.core.layTime)+3\n",
    "colors2 = plasma(numpy.linspace(0, 1, nbcolors))"
   ]
  },
  {
   "cell_type": "markdown",
   "metadata": {
    "deletable": true,
    "editable": true
   },
   "source": [
    "## Species population evolution\n",
    "\n",
    "- with time: `reef.plot.speciesTime`\n",
    "- with depth: `reef.plot.speciesDepth`"
   ]
  },
  {
   "cell_type": "code",
   "execution_count": null,
   "metadata": {
    "collapsed": false,
    "deletable": true,
    "editable": true
   },
   "outputs": [],
   "source": [
    "reef.plot.speciesTime(colors=colors, size=(8,4), font=8, dpi=80,fname='pop.pdf')\n",
    "\n",
    "reef.plot.speciesDepth(colors=colors, size=(8,4), font=8, dpi=80)"
   ]
  },
  {
   "cell_type": "code",
   "execution_count": null,
   "metadata": {
    "collapsed": false,
    "deletable": true,
    "editable": true
   },
   "outputs": [],
   "source": [
    "reef.plot.accomodationTime(size=(8,4), font=8, dpi=80)"
   ]
  },
  {
   "cell_type": "markdown",
   "metadata": {
    "deletable": true,
    "editable": true
   },
   "source": [
    "## Coral synthetic core\n",
    "\n",
    "The main output of the model consists in the synthetic core which shows the evolution of the coral stratigraphic architecture obtained from the interactions among species and with their environment. The plot is obtained using the following function: \n",
    "- `reef.plot.drawCore`\n",
    "\n",
    "The user has the option to save: \n",
    "- the figure using the `figname` parameter (`figname` could either have a _.png_ or _.pdf_ extension)\n",
    "- the model output as a _CSV_ file using the `filename` parameter. This will dump all output dataset for further analysis if required."
   ]
  },
  {
   "cell_type": "code",
   "execution_count": null,
   "metadata": {
    "collapsed": false,
    "deletable": true,
    "editable": true,
    "scrolled": false
   },
   "outputs": [],
   "source": [
    "reef.plot.drawCore(lwidth = 3, colsed=colors, coltime = colors2, size=(9,8), font=8, dpi=380, \n",
    "                   figname='out.pdf', filename='out.csv', sep='\\t')"
   ]
  },
  {
   "cell_type": "code",
   "execution_count": null,
   "metadata": {
    "collapsed": true,
    "deletable": true,
    "editable": true
   },
   "outputs": [],
   "source": []
  }
 ],
 "metadata": {
  "kernelspec": {
   "display_name": "Python 2",
   "language": "python",
   "name": "python2"
  },
  "language_info": {
   "codemirror_mode": {
    "name": "ipython",
    "version": 2
   },
   "file_extension": ".py",
   "mimetype": "text/x-python",
   "name": "python",
   "nbconvert_exporter": "python",
   "pygments_lexer": "ipython2",
   "version": "2.7.6"
  }
 },
 "nbformat": 4,
 "nbformat_minor": 1
}
